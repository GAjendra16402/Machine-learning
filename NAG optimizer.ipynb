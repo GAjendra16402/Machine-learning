{
 "cells": [
  {
   "cell_type": "code",
   "execution_count": 1,
   "id": "c3bbfef6",
   "metadata": {},
   "outputs": [],
   "source": [
    "import numpy as np\n",
    "import pandas as pd"
   ]
  },
  {
   "cell_type": "code",
   "execution_count": 2,
   "id": "35d7ff90",
   "metadata": {},
   "outputs": [],
   "source": [
    "df = pd.read_csv(\"C:\\\\Users\\\\gajendra singh\\\\OneDrive\\\\Desktop\\\\pandas\\\\Churn_Modelling.csv\")"
   ]
  },
  {
   "cell_type": "code",
   "execution_count": 3,
   "id": "f007a8a2",
   "metadata": {},
   "outputs": [],
   "source": [
    "import tensorflow as tf\n",
    "from sklearn.model_selection import train_test_split\n",
    "from sklearn.preprocessing import LabelEncoder,StandardScaler"
   ]
  },
  {
   "cell_type": "code",
   "execution_count": 4,
   "id": "a14d66c0",
   "metadata": {},
   "outputs": [],
   "source": [
    "# Preprocess the dataset\n",
    "x = df.iloc[:,3:-1].values\n",
    "y = df.iloc[:, -1].values"
   ]
  },
  {
   "cell_type": "code",
   "execution_count": 5,
   "id": "d21f9caf",
   "metadata": {},
   "outputs": [],
   "source": [
    "# encoded categorial features\n",
    "lb = LabelEncoder()\n",
    "x[:, 1] = lb.fit_transform(x[:, 1]) #Geography\n",
    "x[:, 2] = lb.fit_transform(x[:, 2]) #Gender"
   ]
  },
  {
   "cell_type": "code",
   "execution_count": 6,
   "id": "a5a8e69c",
   "metadata": {},
   "outputs": [],
   "source": [
    "# split the dataset into train and test sets\n",
    "x_train, x_test, y_train, y_test = train_test_split(x,y, test_size=0.2, random_state=42)\n",
    "sc = StandardScaler()"
   ]
  },
  {
   "cell_type": "code",
   "execution_count": 7,
   "id": "7cd17262",
   "metadata": {},
   "outputs": [],
   "source": [
    "x_train = sc.fit_transform(x_train)\n",
    "x_test = sc.transform(x_test)"
   ]
  },
  {
   "cell_type": "code",
   "execution_count": 9,
   "id": "84acd9fb",
   "metadata": {},
   "outputs": [],
   "source": [
    "# define the neural network architecture\n",
    "model = tf.keras.Sequential([\n",
    "    tf.keras.layers.Dense(64, activation = 'relu',input_dim= x_train.shape[1]),\n",
    "    tf.keras.layers.Dense(64, activation='relu'),\n",
    "    tf.keras.layers.Dense(1, activation='sigmoid')\n",
    "])"
   ]
  },
  {
   "cell_type": "code",
   "execution_count": 10,
   "id": "0e3dbb82",
   "metadata": {},
   "outputs": [],
   "source": [
    "# define the loss function and metrics\n",
    "loss_fn = tf.keras.losses.BinaryCrossentropy()\n",
    "metrics = ['accuracy']"
   ]
  },
  {
   "cell_type": "code",
   "execution_count": 28,
   "id": "37370b36",
   "metadata": {},
   "outputs": [],
   "source": [
    "# define the optimizer with nestrov Accelerated Gradient( NAG)\n",
    "learning_rate = 0.001\n",
    "momentum = 0.9\n",
    "optimizer = tf.keras.optimizers.SGD(learning_rate=learning_rate, momentum=momentum, nesterov=True)\n"
   ]
  },
  {
   "cell_type": "code",
   "execution_count": 12,
   "id": "39d29a53",
   "metadata": {},
   "outputs": [],
   "source": [
    "# compile the model\n",
    "model.compile(optimizer=optimizer, loss = loss_fn, metrics = metrics)\n"
   ]
  },
  {
   "cell_type": "code",
   "execution_count": 13,
   "id": "ac149f31",
   "metadata": {},
   "outputs": [
    {
     "name": "stdout",
     "output_type": "stream",
     "text": [
      "Epoch 1/10\n",
      "200/200 [==============================] - 3s 8ms/step - loss: 0.5747 - accuracy: 0.7264 - val_loss: 0.4926 - val_accuracy: 0.7987\n",
      "Epoch 2/10\n",
      "200/200 [==============================] - 1s 5ms/step - loss: 0.4890 - accuracy: 0.7934 - val_loss: 0.4663 - val_accuracy: 0.7987\n",
      "Epoch 3/10\n",
      "200/200 [==============================] - 1s 5ms/step - loss: 0.4697 - accuracy: 0.7934 - val_loss: 0.4494 - val_accuracy: 0.7975\n",
      "Epoch 4/10\n",
      "200/200 [==============================] - 1s 5ms/step - loss: 0.4561 - accuracy: 0.7955 - val_loss: 0.4373 - val_accuracy: 0.8031\n",
      "Epoch 5/10\n",
      "200/200 [==============================] - 1s 5ms/step - loss: 0.4457 - accuracy: 0.8000 - val_loss: 0.4283 - val_accuracy: 0.8094\n",
      "Epoch 6/10\n",
      "200/200 [==============================] - 1s 5ms/step - loss: 0.4377 - accuracy: 0.8056 - val_loss: 0.4216 - val_accuracy: 0.8163\n",
      "Epoch 7/10\n",
      "200/200 [==============================] - 1s 5ms/step - loss: 0.4313 - accuracy: 0.8111 - val_loss: 0.4164 - val_accuracy: 0.8231\n",
      "Epoch 8/10\n",
      "200/200 [==============================] - 1s 6ms/step - loss: 0.4257 - accuracy: 0.8161 - val_loss: 0.4119 - val_accuracy: 0.8256\n",
      "Epoch 9/10\n",
      "200/200 [==============================] - 1s 6ms/step - loss: 0.4208 - accuracy: 0.8214 - val_loss: 0.4081 - val_accuracy: 0.8300\n",
      "Epoch 10/10\n",
      "200/200 [==============================] - 1s 6ms/step - loss: 0.4162 - accuracy: 0.8248 - val_loss: 0.4047 - val_accuracy: 0.8319\n"
     ]
    },
    {
     "data": {
      "text/plain": [
       "<keras.src.callbacks.History at 0x13220caa410>"
      ]
     },
     "execution_count": 13,
     "metadata": {},
     "output_type": "execute_result"
    }
   ],
   "source": [
    "# train the model\n",
    "epochs = 10\n",
    "batch_size = 32\n",
    "model.fit(x_train,y_train,batch_size=batch_size, epochs=epochs, validation_split=0.2)"
   ]
  },
  {
   "cell_type": "code",
   "execution_count": 14,
   "id": "ea6c9791",
   "metadata": {},
   "outputs": [
    {
     "name": "stdout",
     "output_type": "stream",
     "text": [
      "63/63 [==============================] - 1s 4ms/step - loss: 0.4028 - accuracy: 0.8275\n",
      "Test loss: 0.40279102325439453\n",
      "Test Accuracy: 0.8274999856948853\n"
     ]
    }
   ],
   "source": [
    "# evaluate the model \n",
    "test_loss, test_acc = model.evaluate(x_test, y_test)\n",
    "print('Test loss:',test_loss)\n",
    "print('Test Accuracy:', test_acc)"
   ]
  },
  {
   "cell_type": "code",
   "execution_count": 15,
   "id": "ab5f8126",
   "metadata": {},
   "outputs": [],
   "source": [
    "Df = pd.read_csv(\"C:\\\\Users\\\\gajendra singh\\\\OneDrive\\\\Desktop\\\\pandas\\\\Attrition.csv\")"
   ]
  },
  {
   "cell_type": "code",
   "execution_count": 16,
   "id": "a78ad351",
   "metadata": {},
   "outputs": [],
   "source": [
    "import tensorflow as tf\n",
    "from sklearn.model_selection import train_test_split\n",
    "from sklearn.preprocessing import LabelEncoder, StandardScaler\n",
    "from sklearn.metrics import accuracy_score"
   ]
  },
  {
   "cell_type": "code",
   "execution_count": 17,
   "id": "da59579b",
   "metadata": {},
   "outputs": [],
   "source": [
    "Df = Df.dropna()"
   ]
  },
  {
   "cell_type": "code",
   "execution_count": 18,
   "id": "8d22afe7",
   "metadata": {},
   "outputs": [],
   "source": [
    "x = Df.drop(columns = ['Attrition'], axis=1)\n",
    "y = Df['Attrition']"
   ]
  },
  {
   "cell_type": "code",
   "execution_count": 19,
   "id": "2194d1e0",
   "metadata": {},
   "outputs": [],
   "source": [
    "categorical_features = ['BusinessTravel',\n",
    "                       'Department',\n",
    "                       'EducationField',\n",
    "                       'Gender',\n",
    "                       'JobRole',\n",
    "                       'MaritalStatus',\n",
    "                       'Over18',\n",
    "                       'OverTime']"
   ]
  },
  {
   "cell_type": "code",
   "execution_count": 20,
   "id": "0426ad08",
   "metadata": {},
   "outputs": [],
   "source": [
    "x_encoded = pd.get_dummies(x, columns = categorical_features, drop_first=True)"
   ]
  },
  {
   "cell_type": "code",
   "execution_count": 21,
   "id": "b96a8a85",
   "metadata": {},
   "outputs": [],
   "source": [
    "# encoded target data\n",
    "lb = LabelEncoder()"
   ]
  },
  {
   "cell_type": "code",
   "execution_count": 22,
   "id": "776eed05",
   "metadata": {},
   "outputs": [
    {
     "data": {
      "text/plain": [
       "array([1, 0, 1, ..., 0, 0, 0])"
      ]
     },
     "execution_count": 22,
     "metadata": {},
     "output_type": "execute_result"
    }
   ],
   "source": [
    "y_encoded = lb.fit_transform(y)\n",
    "y_encoded"
   ]
  },
  {
   "cell_type": "code",
   "execution_count": 23,
   "id": "9d9b8799",
   "metadata": {},
   "outputs": [],
   "source": [
    "x_train, x_test, y_train, y_test = train_test_split(x_encoded, y_encoded, test_size = 0.2, random_state = 42)"
   ]
  },
  {
   "cell_type": "code",
   "execution_count": 24,
   "id": "fc1d0097",
   "metadata": {},
   "outputs": [],
   "source": [
    "sc = StandardScaler()\n",
    "x_train_scaled = sc.fit_transform(x_train)\n",
    "x_test_scaled = sc.transform(x_test)"
   ]
  },
  {
   "cell_type": "code",
   "execution_count": 25,
   "id": "163e4b93",
   "metadata": {},
   "outputs": [],
   "source": [
    "model = tf.keras.models.Sequential([\n",
    "    tf.keras.layers.Dense(units= 128, activation = 'relu', input_dim = x_train_scaled.shape[1]),\n",
    "    tf.keras.layers.Dropout(0.3),\n",
    "    tf.keras.layers.Dense(units = 64, activation = 'relu'), # hidden layer\n",
    "    tf.keras.layers.Dropout(0.3),\n",
    "    tf.keras.layers.Dense(units = 1, activation = 'sigmoid') # output layer\n",
    "])"
   ]
  },
  {
   "cell_type": "code",
   "execution_count": 26,
   "id": "15180427",
   "metadata": {},
   "outputs": [],
   "source": [
    "loss_fn = tf.keras.losses.BinaryCrossentropy()"
   ]
  },
  {
   "cell_type": "code",
   "execution_count": 27,
   "id": "4bfe3c0c",
   "metadata": {},
   "outputs": [],
   "source": [
    "metrics = ['accuracy']"
   ]
  },
  {
   "cell_type": "code",
   "execution_count": 29,
   "id": "1f392118",
   "metadata": {},
   "outputs": [],
   "source": [
    "learning_rate = 0.001 \n",
    "momentum = 0.9 \n",
    "optimizer = tf.keras.optimizers.SGD(learning_rate = learning_rate , momentum = momentum , nesterov = True)"
   ]
  },
  {
   "cell_type": "code",
   "execution_count": 30,
   "id": "a9c71097",
   "metadata": {},
   "outputs": [],
   "source": [
    "model.compile(optimizer = optimizer , loss = loss_fn , metrics = metrics)"
   ]
  },
  {
   "cell_type": "code",
   "execution_count": 32,
   "id": "c29d6812",
   "metadata": {
    "scrolled": true
   },
   "outputs": [
    {
     "name": "stdout",
     "output_type": "stream",
     "text": [
      "Epoch 1/50\n",
      "133/133 [==============================] - 1s 6ms/step - loss: 0.4009 - accuracy: 0.8374 - val_loss: 0.4570 - val_accuracy: 0.7966\n",
      "Epoch 2/50\n",
      "133/133 [==============================] - 1s 6ms/step - loss: 0.3916 - accuracy: 0.8393 - val_loss: 0.4486 - val_accuracy: 0.7966\n",
      "Epoch 3/50\n",
      "133/133 [==============================] - 1s 6ms/step - loss: 0.3844 - accuracy: 0.8431 - val_loss: 0.4396 - val_accuracy: 0.8051\n",
      "Epoch 4/50\n",
      "133/133 [==============================] - 1s 5ms/step - loss: 0.3728 - accuracy: 0.8440 - val_loss: 0.4323 - val_accuracy: 0.8051\n",
      "Epoch 5/50\n",
      "133/133 [==============================] - 1s 5ms/step - loss: 0.3581 - accuracy: 0.8526 - val_loss: 0.4261 - val_accuracy: 0.7966\n",
      "Epoch 6/50\n",
      "133/133 [==============================] - 1s 6ms/step - loss: 0.3416 - accuracy: 0.8563 - val_loss: 0.4196 - val_accuracy: 0.8136\n",
      "Epoch 7/50\n",
      "133/133 [==============================] - 1s 5ms/step - loss: 0.3402 - accuracy: 0.8752 - val_loss: 0.4155 - val_accuracy: 0.8305\n",
      "Epoch 8/50\n",
      "133/133 [==============================] - 1s 5ms/step - loss: 0.3347 - accuracy: 0.8611 - val_loss: 0.4135 - val_accuracy: 0.8390\n",
      "Epoch 9/50\n",
      "133/133 [==============================] - 1s 5ms/step - loss: 0.3319 - accuracy: 0.8686 - val_loss: 0.4120 - val_accuracy: 0.8390\n",
      "Epoch 10/50\n",
      "133/133 [==============================] - 1s 5ms/step - loss: 0.3203 - accuracy: 0.8658 - val_loss: 0.4121 - val_accuracy: 0.8390\n",
      "Epoch 11/50\n",
      "133/133 [==============================] - 1s 6ms/step - loss: 0.3187 - accuracy: 0.8733 - val_loss: 0.4091 - val_accuracy: 0.8305\n",
      "Epoch 12/50\n",
      "133/133 [==============================] - 1s 6ms/step - loss: 0.3002 - accuracy: 0.8922 - val_loss: 0.4079 - val_accuracy: 0.8390\n",
      "Epoch 13/50\n",
      "133/133 [==============================] - 1s 5ms/step - loss: 0.2985 - accuracy: 0.8875 - val_loss: 0.4115 - val_accuracy: 0.8390\n",
      "Epoch 14/50\n",
      "133/133 [==============================] - 1s 5ms/step - loss: 0.2857 - accuracy: 0.8932 - val_loss: 0.4134 - val_accuracy: 0.8220\n",
      "Epoch 15/50\n",
      "133/133 [==============================] - 1s 6ms/step - loss: 0.2989 - accuracy: 0.8781 - val_loss: 0.4090 - val_accuracy: 0.8220\n",
      "Epoch 16/50\n",
      "133/133 [==============================] - 1s 5ms/step - loss: 0.2835 - accuracy: 0.9008 - val_loss: 0.4119 - val_accuracy: 0.8220\n",
      "Epoch 17/50\n",
      "133/133 [==============================] - 1s 5ms/step - loss: 0.2895 - accuracy: 0.8828 - val_loss: 0.4158 - val_accuracy: 0.8305\n",
      "Epoch 18/50\n",
      "133/133 [==============================] - 1s 5ms/step - loss: 0.2880 - accuracy: 0.8932 - val_loss: 0.4164 - val_accuracy: 0.8305\n",
      "Epoch 19/50\n",
      "133/133 [==============================] - 1s 5ms/step - loss: 0.2828 - accuracy: 0.8885 - val_loss: 0.4169 - val_accuracy: 0.8305\n",
      "Epoch 20/50\n",
      "133/133 [==============================] - 1s 6ms/step - loss: 0.2755 - accuracy: 0.8941 - val_loss: 0.4171 - val_accuracy: 0.8305\n",
      "Epoch 21/50\n",
      "133/133 [==============================] - 1s 6ms/step - loss: 0.2757 - accuracy: 0.8951 - val_loss: 0.4226 - val_accuracy: 0.8390\n",
      "Epoch 22/50\n",
      "133/133 [==============================] - 1s 6ms/step - loss: 0.2715 - accuracy: 0.8970 - val_loss: 0.4291 - val_accuracy: 0.8305\n",
      "Epoch 23/50\n",
      "133/133 [==============================] - 1s 6ms/step - loss: 0.2574 - accuracy: 0.9036 - val_loss: 0.4272 - val_accuracy: 0.8136\n",
      "Epoch 24/50\n",
      "133/133 [==============================] - 1s 6ms/step - loss: 0.2524 - accuracy: 0.9055 - val_loss: 0.4306 - val_accuracy: 0.8136\n",
      "Epoch 25/50\n",
      "133/133 [==============================] - 1s 5ms/step - loss: 0.2629 - accuracy: 0.8960 - val_loss: 0.4313 - val_accuracy: 0.8136\n",
      "Epoch 26/50\n",
      "133/133 [==============================] - 1s 5ms/step - loss: 0.2460 - accuracy: 0.9168 - val_loss: 0.4368 - val_accuracy: 0.8136\n",
      "Epoch 27/50\n",
      "133/133 [==============================] - 1s 6ms/step - loss: 0.2485 - accuracy: 0.8960 - val_loss: 0.4324 - val_accuracy: 0.8051\n",
      "Epoch 28/50\n",
      "133/133 [==============================] - 1s 6ms/step - loss: 0.2446 - accuracy: 0.9093 - val_loss: 0.4397 - val_accuracy: 0.8136\n",
      "Epoch 29/50\n",
      "133/133 [==============================] - 1s 5ms/step - loss: 0.2449 - accuracy: 0.8970 - val_loss: 0.4411 - val_accuracy: 0.8220\n",
      "Epoch 30/50\n",
      "133/133 [==============================] - 1s 6ms/step - loss: 0.2401 - accuracy: 0.9036 - val_loss: 0.4490 - val_accuracy: 0.8136\n",
      "Epoch 31/50\n",
      "133/133 [==============================] - 1s 5ms/step - loss: 0.2327 - accuracy: 0.9093 - val_loss: 0.4461 - val_accuracy: 0.8136\n",
      "Epoch 32/50\n",
      "133/133 [==============================] - 1s 5ms/step - loss: 0.2375 - accuracy: 0.9140 - val_loss: 0.4487 - val_accuracy: 0.8051\n",
      "Epoch 33/50\n",
      "133/133 [==============================] - 1s 6ms/step - loss: 0.2332 - accuracy: 0.9130 - val_loss: 0.4509 - val_accuracy: 0.8051\n",
      "Epoch 34/50\n",
      "133/133 [==============================] - 1s 6ms/step - loss: 0.2307 - accuracy: 0.9083 - val_loss: 0.4538 - val_accuracy: 0.8136\n",
      "Epoch 35/50\n",
      "133/133 [==============================] - 1s 6ms/step - loss: 0.2164 - accuracy: 0.9168 - val_loss: 0.4568 - val_accuracy: 0.8136\n",
      "Epoch 36/50\n",
      "133/133 [==============================] - 1s 6ms/step - loss: 0.2148 - accuracy: 0.9093 - val_loss: 0.4612 - val_accuracy: 0.8051\n",
      "Epoch 37/50\n",
      "133/133 [==============================] - 1s 5ms/step - loss: 0.2121 - accuracy: 0.9121 - val_loss: 0.4626 - val_accuracy: 0.8136\n",
      "Epoch 38/50\n",
      "133/133 [==============================] - 1s 5ms/step - loss: 0.2151 - accuracy: 0.9140 - val_loss: 0.4608 - val_accuracy: 0.8220\n",
      "Epoch 39/50\n",
      "133/133 [==============================] - 1s 5ms/step - loss: 0.2117 - accuracy: 0.9159 - val_loss: 0.4630 - val_accuracy: 0.8136\n",
      "Epoch 40/50\n",
      "133/133 [==============================] - 1s 5ms/step - loss: 0.2074 - accuracy: 0.9149 - val_loss: 0.4645 - val_accuracy: 0.8136\n",
      "Epoch 41/50\n",
      "133/133 [==============================] - 1s 6ms/step - loss: 0.2055 - accuracy: 0.9149 - val_loss: 0.4617 - val_accuracy: 0.8136\n",
      "Epoch 42/50\n",
      "133/133 [==============================] - 1s 6ms/step - loss: 0.2044 - accuracy: 0.9187 - val_loss: 0.4607 - val_accuracy: 0.8136\n",
      "Epoch 43/50\n",
      "133/133 [==============================] - 1s 6ms/step - loss: 0.2098 - accuracy: 0.9055 - val_loss: 0.4629 - val_accuracy: 0.8136\n",
      "Epoch 44/50\n",
      "133/133 [==============================] - 1s 6ms/step - loss: 0.1852 - accuracy: 0.9263 - val_loss: 0.4587 - val_accuracy: 0.8136\n",
      "Epoch 45/50\n",
      "133/133 [==============================] - 1s 5ms/step - loss: 0.1785 - accuracy: 0.9244 - val_loss: 0.4680 - val_accuracy: 0.8136\n",
      "Epoch 46/50\n",
      "133/133 [==============================] - 1s 5ms/step - loss: 0.1889 - accuracy: 0.9253 - val_loss: 0.4758 - val_accuracy: 0.8136\n",
      "Epoch 47/50\n",
      "133/133 [==============================] - 1s 6ms/step - loss: 0.1900 - accuracy: 0.9197 - val_loss: 0.4828 - val_accuracy: 0.8051\n",
      "Epoch 48/50\n",
      "133/133 [==============================] - 1s 6ms/step - loss: 0.2020 - accuracy: 0.9197 - val_loss: 0.4809 - val_accuracy: 0.7966\n",
      "Epoch 49/50\n",
      "133/133 [==============================] - 1s 5ms/step - loss: 0.1840 - accuracy: 0.9253 - val_loss: 0.4798 - val_accuracy: 0.8220\n",
      "Epoch 50/50\n",
      "133/133 [==============================] - 1s 5ms/step - loss: 0.1737 - accuracy: 0.9329 - val_loss: 0.4882 - val_accuracy: 0.8136\n"
     ]
    },
    {
     "data": {
      "text/plain": [
       "<keras.src.callbacks.History at 0x13220b68910>"
      ]
     },
     "execution_count": 32,
     "metadata": {},
     "output_type": "execute_result"
    }
   ],
   "source": [
    "model.fit(x_train_scaled , \n",
    "         y_train , \n",
    "         epochs = 50 ,\n",
    "          batch_size = 8 , \n",
    "          validation_split = 0.1\n",
    "         \n",
    "         )"
   ]
  },
  {
   "cell_type": "code",
   "execution_count": 33,
   "id": "ae651eb5",
   "metadata": {},
   "outputs": [
    {
     "name": "stdout",
     "output_type": "stream",
     "text": [
      "10/10 [==============================] - 0s 4ms/step - loss: 0.3567 - accuracy: 0.8810\n",
      "Test Loss = 0.3567, Test Accuracy = 0.8810\n"
     ]
    }
   ],
   "source": [
    "loss , accuracy = model.evaluate(x_test_scaled, y_test)\n",
    "print(f'Test Loss = {loss :.4f}, Test Accuracy = {accuracy :.4f}') "
   ]
  },
  {
   "cell_type": "code",
   "execution_count": null,
   "id": "d8ec1aa3",
   "metadata": {},
   "outputs": [],
   "source": []
  }
 ],
 "metadata": {
  "kernelspec": {
   "display_name": "Python 3 (ipykernel)",
   "language": "python",
   "name": "python3"
  },
  "language_info": {
   "codemirror_mode": {
    "name": "ipython",
    "version": 3
   },
   "file_extension": ".py",
   "mimetype": "text/x-python",
   "name": "python",
   "nbconvert_exporter": "python",
   "pygments_lexer": "ipython3",
   "version": "3.11.4"
  }
 },
 "nbformat": 4,
 "nbformat_minor": 5
}

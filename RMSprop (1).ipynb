{
 "cells": [
  {
   "cell_type": "code",
   "execution_count": 1,
   "id": "539897cc",
   "metadata": {},
   "outputs": [],
   "source": [
    "import numpy as np\n",
    "import pandas as pd"
   ]
  },
  {
   "cell_type": "code",
   "execution_count": 2,
   "id": "e558ad8a",
   "metadata": {},
   "outputs": [],
   "source": [
    "import tensorflow as tf\n",
    "from sklearn.model_selection import train_test_split\n",
    "from sklearn.preprocessing import LabelEncoder, StandardScaler"
   ]
  },
  {
   "cell_type": "code",
   "execution_count": 3,
   "id": "0d595b73",
   "metadata": {},
   "outputs": [],
   "source": [
    "df = pd.read_csv(\"C:\\\\Users\\\\gajendra singh\\\\OneDrive\\\\Desktop\\\\pandas\\\\Churn_Modelling.csv\")"
   ]
  },
  {
   "cell_type": "code",
   "execution_count": 4,
   "id": "fda79ae6",
   "metadata": {},
   "outputs": [],
   "source": [
    "x=df.iloc[:, 3:-1].values\n",
    "y = df.iloc[:, -1].values"
   ]
  },
  {
   "cell_type": "code",
   "execution_count": 5,
   "id": "0dbdb970",
   "metadata": {},
   "outputs": [],
   "source": [
    "lb=LabelEncoder()\n",
    "x[:, 1] = lb.fit_transform(x[:, 1])\n",
    "x[:, 2] = lb.fit_transform(x[:, 2])"
   ]
  },
  {
   "cell_type": "code",
   "execution_count": 6,
   "id": "8a7290ee",
   "metadata": {},
   "outputs": [],
   "source": [
    "x_train,x_test,y_train,y_test= train_test_split(x,y,test_size=0.2,random_state=42)"
   ]
  },
  {
   "cell_type": "code",
   "execution_count": 7,
   "id": "9d401e6d",
   "metadata": {},
   "outputs": [],
   "source": [
    "sc = StandardScaler()\n",
    "x_train = sc.fit_transform(x_train)\n",
    "x_test = sc.transform(x_test)"
   ]
  },
  {
   "cell_type": "code",
   "execution_count": 8,
   "id": "9678d68f",
   "metadata": {},
   "outputs": [],
   "source": [
    "model = tf.keras.Sequential([\n",
    "    tf.keras.layers.Dense(64, activation = 'relu',input_dim = x_train.shape[1]),\n",
    "    tf.keras.layers.Dense(64, activation = 'relu'),\n",
    "    tf.keras.layers.Dense(1, activation = 'sigmoid')\n",
    "])"
   ]
  },
  {
   "cell_type": "code",
   "execution_count": 9,
   "id": "35792d5a",
   "metadata": {},
   "outputs": [],
   "source": [
    "loss_fn = tf.keras.losses.BinaryCrossentropy()\n",
    "metrics = ['accuracy']"
   ]
  },
  {
   "cell_type": "code",
   "execution_count": 10,
   "id": "cc955769",
   "metadata": {},
   "outputs": [],
   "source": [
    "learning_rate = 0.01\n",
    "optimizer = tf.keras.optimizers.RMSprop(learning_rate=learning_rate)"
   ]
  },
  {
   "cell_type": "code",
   "execution_count": 11,
   "id": "264a3731",
   "metadata": {},
   "outputs": [],
   "source": [
    "model.compile(optimizer=optimizer, loss=loss_fn, metrics=metrics)"
   ]
  },
  {
   "cell_type": "code",
   "execution_count": 12,
   "id": "5752bcc4",
   "metadata": {
    "scrolled": true
   },
   "outputs": [
    {
     "name": "stdout",
     "output_type": "stream",
     "text": [
      "Epoch 1/10\n",
      "200/200 [==============================] - 1s 3ms/step - loss: 0.4025 - accuracy: 0.8320 - val_loss: 0.3680 - val_accuracy: 0.8394\n",
      "Epoch 2/10\n",
      "200/200 [==============================] - 0s 2ms/step - loss: 0.3681 - accuracy: 0.8484 - val_loss: 0.3702 - val_accuracy: 0.8438\n",
      "Epoch 3/10\n",
      "200/200 [==============================] - 0s 2ms/step - loss: 0.3602 - accuracy: 0.8547 - val_loss: 0.3536 - val_accuracy: 0.8462\n",
      "Epoch 4/10\n",
      "200/200 [==============================] - 0s 2ms/step - loss: 0.3567 - accuracy: 0.8562 - val_loss: 0.3579 - val_accuracy: 0.8550\n",
      "Epoch 5/10\n",
      "200/200 [==============================] - 0s 2ms/step - loss: 0.3528 - accuracy: 0.8597 - val_loss: 0.3607 - val_accuracy: 0.8487\n",
      "Epoch 6/10\n",
      "200/200 [==============================] - 0s 2ms/step - loss: 0.3488 - accuracy: 0.8612 - val_loss: 0.3514 - val_accuracy: 0.8544\n",
      "Epoch 7/10\n",
      "200/200 [==============================] - 0s 2ms/step - loss: 0.3452 - accuracy: 0.8592 - val_loss: 0.3649 - val_accuracy: 0.8531\n",
      "Epoch 8/10\n",
      "200/200 [==============================] - 0s 1ms/step - loss: 0.3438 - accuracy: 0.8606 - val_loss: 0.3563 - val_accuracy: 0.8569\n",
      "Epoch 9/10\n",
      "200/200 [==============================] - 0s 2ms/step - loss: 0.3404 - accuracy: 0.8630 - val_loss: 0.3643 - val_accuracy: 0.8512\n",
      "Epoch 10/10\n",
      "200/200 [==============================] - 0s 2ms/step - loss: 0.3362 - accuracy: 0.8670 - val_loss: 0.3708 - val_accuracy: 0.8406\n"
     ]
    },
    {
     "data": {
      "text/plain": [
       "<keras.src.callbacks.History at 0x2cbca32a8d0>"
      ]
     },
     "execution_count": 12,
     "metadata": {},
     "output_type": "execute_result"
    }
   ],
   "source": [
    "epochs = 10\n",
    "batch_size = 32\n",
    "model.fit(x_train,y_train,batch_size=batch_size,epochs=epochs, validation_split=0.2)"
   ]
  },
  {
   "cell_type": "code",
   "execution_count": 13,
   "id": "84ffb2e9",
   "metadata": {},
   "outputs": [
    {
     "name": "stdout",
     "output_type": "stream",
     "text": [
      "63/63 [==============================] - 0s 2ms/step - loss: 0.3617 - accuracy: 0.8590\n",
      "Test Loss: 0.361748069524765\n",
      "Test Accuarcy: 0.859000027179718\n"
     ]
    }
   ],
   "source": [
    "test_loss, test_acc, = model.evaluate(x_test,y_test)\n",
    "print('Test Loss:', test_loss)\n",
    "print('Test Accuarcy:', test_acc)"
   ]
  },
  {
   "cell_type": "code",
   "execution_count": 14,
   "id": "11b81ba3",
   "metadata": {},
   "outputs": [],
   "source": [
    "df = pd.read_csv(\"C:\\\\Users\\\\gajendra singh\\\\OneDrive\\\\Desktop\\\\pandas\\\\Attrition.csv\")"
   ]
  },
  {
   "cell_type": "code",
   "execution_count": 15,
   "id": "ee052f6f",
   "metadata": {},
   "outputs": [],
   "source": [
    "x = df.drop(columns = ['Attrition'], axis=1)\n",
    "y = df['Attrition']"
   ]
  },
  {
   "cell_type": "code",
   "execution_count": 16,
   "id": "766cc21a",
   "metadata": {},
   "outputs": [],
   "source": [
    "categorical_features = ['BusinessTravel',\n",
    "                       'Department',\n",
    "                       'EducationField',\n",
    "                       'Gender',\n",
    "                       'JobRole',\n",
    "                       'MaritalStatus',\n",
    "                       'Over18',\n",
    "                       'OverTime']"
   ]
  },
  {
   "cell_type": "code",
   "execution_count": 17,
   "id": "cf7c5ca6",
   "metadata": {},
   "outputs": [],
   "source": [
    "# encoded target data\n",
    "lb = LabelEncoder()"
   ]
  },
  {
   "cell_type": "code",
   "execution_count": 18,
   "id": "038d8ab5",
   "metadata": {},
   "outputs": [],
   "source": [
    "x_encoded = pd.get_dummies(x, columns = categorical_features, drop_first=True)"
   ]
  },
  {
   "cell_type": "code",
   "execution_count": 19,
   "id": "3acdf371",
   "metadata": {},
   "outputs": [
    {
     "data": {
      "text/plain": [
       "array([1, 0, 1, ..., 0, 0, 0])"
      ]
     },
     "execution_count": 19,
     "metadata": {},
     "output_type": "execute_result"
    }
   ],
   "source": [
    "y_encoded = lb.fit_transform(y)\n",
    "y_encoded"
   ]
  },
  {
   "cell_type": "code",
   "execution_count": 20,
   "id": "6d0e73df",
   "metadata": {},
   "outputs": [],
   "source": [
    "x_train, x_test, y_train, y_test = train_test_split(x_encoded, y_encoded, test_size = 0.2, random_state = 42)"
   ]
  },
  {
   "cell_type": "code",
   "execution_count": 21,
   "id": "6b1c80ee",
   "metadata": {},
   "outputs": [],
   "source": [
    "sc = StandardScaler()\n",
    "x_train_scaled = sc.fit_transform(x_train)\n",
    "x_test_scaled = sc.transform(x_test)"
   ]
  },
  {
   "cell_type": "code",
   "execution_count": 22,
   "id": "aca84ba0",
   "metadata": {},
   "outputs": [],
   "source": [
    "model = tf.keras.models.Sequential([\n",
    "    tf.keras.layers.Dense(units= 128, activation = 'relu', input_dim = x_train_scaled.shape[1]),\n",
    "    tf.keras.layers.Dropout(0.3),\n",
    "    tf.keras.layers.Dense(units = 64, activation = 'relu'), # hidden layer\n",
    "    tf.keras.layers.Dropout(0.3),\n",
    "    tf.keras.layers.Dense(units = 1, activation = 'sigmoid') # output layer\n",
    "])"
   ]
  },
  {
   "cell_type": "code",
   "execution_count": 23,
   "id": "c4be2d1a",
   "metadata": {},
   "outputs": [],
   "source": [
    "loss_fn = tf.keras.losses.BinaryCrossentropy()\n",
    "metrics = ['accuracy']"
   ]
  },
  {
   "cell_type": "code",
   "execution_count": 32,
   "id": "dbefe75b",
   "metadata": {},
   "outputs": [],
   "source": [
    "learning_rate = 0.01\n",
    "optimizer = tf.keras.optimizers.RMSprop(learning_rate=learning_rate)"
   ]
  },
  {
   "cell_type": "code",
   "execution_count": 33,
   "id": "1ded4d4d",
   "metadata": {},
   "outputs": [],
   "source": [
    "model.compile(optimizer=optimizer, loss=loss_fn, metrics=metrics)"
   ]
  },
  {
   "cell_type": "code",
   "execution_count": 34,
   "id": "596ee71c",
   "metadata": {
    "scrolled": true
   },
   "outputs": [
    {
     "name": "stdout",
     "output_type": "stream",
     "text": [
      "Epoch 1/50\n",
      "118/118 [==============================] - 3s 9ms/step - loss: 0.4396 - accuracy: 0.8404 - val_loss: 0.5121 - val_accuracy: 0.7966\n",
      "Epoch 2/50\n",
      "118/118 [==============================] - 1s 6ms/step - loss: 0.4395 - accuracy: 0.8404 - val_loss: 0.5113 - val_accuracy: 0.7966\n",
      "Epoch 3/50\n",
      "118/118 [==============================] - 1s 6ms/step - loss: 0.4396 - accuracy: 0.8404 - val_loss: 0.5119 - val_accuracy: 0.7966\n",
      "Epoch 4/50\n",
      "118/118 [==============================] - 1s 6ms/step - loss: 0.4394 - accuracy: 0.8404 - val_loss: 0.5134 - val_accuracy: 0.7966\n",
      "Epoch 5/50\n",
      "118/118 [==============================] - 1s 6ms/step - loss: 0.4394 - accuracy: 0.8404 - val_loss: 0.5156 - val_accuracy: 0.7966\n",
      "Epoch 6/50\n",
      "118/118 [==============================] - 1s 6ms/step - loss: 0.4396 - accuracy: 0.8404 - val_loss: 0.5131 - val_accuracy: 0.7966\n",
      "Epoch 7/50\n",
      "118/118 [==============================] - 1s 6ms/step - loss: 0.4393 - accuracy: 0.8404 - val_loss: 0.5132 - val_accuracy: 0.7966\n",
      "Epoch 8/50\n",
      "118/118 [==============================] - 1s 6ms/step - loss: 0.4392 - accuracy: 0.8404 - val_loss: 0.5141 - val_accuracy: 0.7966\n",
      "Epoch 9/50\n",
      "118/118 [==============================] - 1s 6ms/step - loss: 0.4398 - accuracy: 0.8404 - val_loss: 0.5125 - val_accuracy: 0.7966\n",
      "Epoch 10/50\n",
      "118/118 [==============================] - 1s 6ms/step - loss: 0.4401 - accuracy: 0.8404 - val_loss: 0.5118 - val_accuracy: 0.7966\n",
      "Epoch 11/50\n",
      "118/118 [==============================] - 1s 6ms/step - loss: 0.4397 - accuracy: 0.8404 - val_loss: 0.5125 - val_accuracy: 0.7966\n",
      "Epoch 12/50\n",
      "118/118 [==============================] - 1s 6ms/step - loss: 0.4392 - accuracy: 0.8404 - val_loss: 0.5149 - val_accuracy: 0.7966\n",
      "Epoch 13/50\n",
      "118/118 [==============================] - 1s 6ms/step - loss: 0.4396 - accuracy: 0.8404 - val_loss: 0.5126 - val_accuracy: 0.7966\n",
      "Epoch 14/50\n",
      "118/118 [==============================] - 1s 6ms/step - loss: 0.4394 - accuracy: 0.8404 - val_loss: 0.5137 - val_accuracy: 0.7966\n",
      "Epoch 15/50\n",
      "118/118 [==============================] - 1s 6ms/step - loss: 0.4394 - accuracy: 0.8404 - val_loss: 0.5149 - val_accuracy: 0.7966\n",
      "Epoch 16/50\n",
      "118/118 [==============================] - 1s 6ms/step - loss: 0.4395 - accuracy: 0.8404 - val_loss: 0.5135 - val_accuracy: 0.7966\n",
      "Epoch 17/50\n",
      "118/118 [==============================] - 1s 6ms/step - loss: 0.4396 - accuracy: 0.8404 - val_loss: 0.5141 - val_accuracy: 0.7966\n",
      "Epoch 18/50\n",
      "118/118 [==============================] - 1s 6ms/step - loss: 0.4396 - accuracy: 0.8404 - val_loss: 0.5130 - val_accuracy: 0.7966\n",
      "Epoch 19/50\n",
      "118/118 [==============================] - 1s 6ms/step - loss: 0.4395 - accuracy: 0.8404 - val_loss: 0.5128 - val_accuracy: 0.7966\n",
      "Epoch 20/50\n",
      "118/118 [==============================] - 1s 6ms/step - loss: 0.4395 - accuracy: 0.8404 - val_loss: 0.5118 - val_accuracy: 0.7966\n",
      "Epoch 21/50\n",
      "118/118 [==============================] - 1s 6ms/step - loss: 0.4393 - accuracy: 0.8404 - val_loss: 0.5146 - val_accuracy: 0.7966\n",
      "Epoch 22/50\n",
      "118/118 [==============================] - 1s 5ms/step - loss: 0.4397 - accuracy: 0.8404 - val_loss: 0.5137 - val_accuracy: 0.7966\n",
      "Epoch 23/50\n",
      "118/118 [==============================] - 1s 6ms/step - loss: 0.4396 - accuracy: 0.8404 - val_loss: 0.5121 - val_accuracy: 0.7966\n",
      "Epoch 24/50\n",
      "118/118 [==============================] - 1s 6ms/step - loss: 0.4394 - accuracy: 0.8404 - val_loss: 0.5117 - val_accuracy: 0.7966\n",
      "Epoch 25/50\n",
      "118/118 [==============================] - 1s 6ms/step - loss: 0.4391 - accuracy: 0.8404 - val_loss: 0.5125 - val_accuracy: 0.7966\n",
      "Epoch 26/50\n",
      "118/118 [==============================] - 1s 6ms/step - loss: 0.4395 - accuracy: 0.8404 - val_loss: 0.5132 - val_accuracy: 0.7966\n",
      "Epoch 27/50\n",
      "118/118 [==============================] - 1s 6ms/step - loss: 0.4395 - accuracy: 0.8404 - val_loss: 0.5138 - val_accuracy: 0.7966\n",
      "Epoch 28/50\n",
      "118/118 [==============================] - 1s 5ms/step - loss: 0.4396 - accuracy: 0.8404 - val_loss: 0.5121 - val_accuracy: 0.7966\n",
      "Epoch 29/50\n",
      "118/118 [==============================] - 1s 6ms/step - loss: 0.4390 - accuracy: 0.8404 - val_loss: 0.5148 - val_accuracy: 0.7966\n",
      "Epoch 30/50\n",
      "118/118 [==============================] - 1s 6ms/step - loss: 0.4397 - accuracy: 0.8404 - val_loss: 0.5146 - val_accuracy: 0.7966\n",
      "Epoch 31/50\n",
      "118/118 [==============================] - 1s 5ms/step - loss: 0.4397 - accuracy: 0.8404 - val_loss: 0.5136 - val_accuracy: 0.7966\n",
      "Epoch 32/50\n",
      "118/118 [==============================] - 1s 6ms/step - loss: 0.4396 - accuracy: 0.8404 - val_loss: 0.5117 - val_accuracy: 0.7966\n",
      "Epoch 33/50\n",
      "118/118 [==============================] - 1s 6ms/step - loss: 0.4395 - accuracy: 0.8404 - val_loss: 0.5112 - val_accuracy: 0.7966\n",
      "Epoch 34/50\n",
      "118/118 [==============================] - 1s 6ms/step - loss: 0.4396 - accuracy: 0.8404 - val_loss: 0.5120 - val_accuracy: 0.7966\n",
      "Epoch 35/50\n",
      "118/118 [==============================] - 1s 6ms/step - loss: 0.4396 - accuracy: 0.8404 - val_loss: 0.5115 - val_accuracy: 0.7966\n",
      "Epoch 36/50\n",
      "118/118 [==============================] - 1s 6ms/step - loss: 0.4396 - accuracy: 0.8404 - val_loss: 0.5118 - val_accuracy: 0.7966\n",
      "Epoch 37/50\n",
      "118/118 [==============================] - 1s 6ms/step - loss: 0.4396 - accuracy: 0.8404 - val_loss: 0.5128 - val_accuracy: 0.7966\n",
      "Epoch 38/50\n",
      "118/118 [==============================] - 1s 6ms/step - loss: 0.4396 - accuracy: 0.8404 - val_loss: 0.5126 - val_accuracy: 0.7966\n",
      "Epoch 39/50\n",
      "118/118 [==============================] - 1s 6ms/step - loss: 0.4391 - accuracy: 0.8404 - val_loss: 0.5135 - val_accuracy: 0.7966\n",
      "Epoch 40/50\n",
      "118/118 [==============================] - 1s 6ms/step - loss: 0.4396 - accuracy: 0.8404 - val_loss: 0.5131 - val_accuracy: 0.7966\n",
      "Epoch 41/50\n",
      "118/118 [==============================] - 1s 6ms/step - loss: 0.4396 - accuracy: 0.8404 - val_loss: 0.5123 - val_accuracy: 0.7966\n",
      "Epoch 42/50\n",
      "118/118 [==============================] - 1s 6ms/step - loss: 0.4394 - accuracy: 0.8404 - val_loss: 0.5139 - val_accuracy: 0.7966\n",
      "Epoch 43/50\n",
      "118/118 [==============================] - 1s 6ms/step - loss: 0.4393 - accuracy: 0.8404 - val_loss: 0.5112 - val_accuracy: 0.7966\n",
      "Epoch 44/50\n",
      "118/118 [==============================] - 1s 6ms/step - loss: 0.4394 - accuracy: 0.8404 - val_loss: 0.5119 - val_accuracy: 0.7966\n",
      "Epoch 45/50\n",
      "118/118 [==============================] - 1s 6ms/step - loss: 0.4394 - accuracy: 0.8404 - val_loss: 0.5136 - val_accuracy: 0.7966\n",
      "Epoch 46/50\n",
      "118/118 [==============================] - 1s 6ms/step - loss: 0.4394 - accuracy: 0.8404 - val_loss: 0.5144 - val_accuracy: 0.7966\n",
      "Epoch 47/50\n",
      "118/118 [==============================] - 1s 6ms/step - loss: 0.4394 - accuracy: 0.8404 - val_loss: 0.5118 - val_accuracy: 0.7966\n",
      "Epoch 48/50\n",
      "118/118 [==============================] - 1s 6ms/step - loss: 0.4395 - accuracy: 0.8404 - val_loss: 0.5112 - val_accuracy: 0.7966\n",
      "Epoch 49/50\n",
      "118/118 [==============================] - 1s 6ms/step - loss: 0.4395 - accuracy: 0.8404 - val_loss: 0.5123 - val_accuracy: 0.7966\n",
      "Epoch 50/50\n",
      "118/118 [==============================] - 1s 5ms/step - loss: 0.4395 - accuracy: 0.8404 - val_loss: 0.5136 - val_accuracy: 0.7966\n"
     ]
    },
    {
     "data": {
      "text/plain": [
       "<keras.src.callbacks.History at 0x2cbcaa8eb50>"
      ]
     },
     "execution_count": 34,
     "metadata": {},
     "output_type": "execute_result"
    }
   ],
   "source": [
    "epochs = 50\n",
    "batch_size = 8\n",
    "model.fit(x_train,y_train,batch_size=batch_size,epochs=epochs, validation_split=0.2)"
   ]
  },
  {
   "cell_type": "code",
   "execution_count": 35,
   "id": "914b9c74",
   "metadata": {},
   "outputs": [
    {
     "name": "stdout",
     "output_type": "stream",
     "text": [
      "10/10 [==============================] - 0s 3ms/step - loss: 0.3933 - accuracy: 0.8673\n",
      "Test Loss: 0.39326828718185425\n",
      "Test Accuarcy: 0.8673469424247742\n"
     ]
    }
   ],
   "source": [
    "test_loss, test_acc, = model.evaluate(x_test,y_test)\n",
    "print('Test Loss:', test_loss)\n",
    "print('Test Accuarcy:', test_acc)"
   ]
  },
  {
   "cell_type": "code",
   "execution_count": null,
   "id": "77011362",
   "metadata": {},
   "outputs": [],
   "source": []
  }
 ],
 "metadata": {
  "kernelspec": {
   "display_name": "Python 3 (ipykernel)",
   "language": "python",
   "name": "python3"
  },
  "language_info": {
   "codemirror_mode": {
    "name": "ipython",
    "version": 3
   },
   "file_extension": ".py",
   "mimetype": "text/x-python",
   "name": "python",
   "nbconvert_exporter": "python",
   "pygments_lexer": "ipython3",
   "version": "3.11.4"
  }
 },
 "nbformat": 4,
 "nbformat_minor": 5
}
